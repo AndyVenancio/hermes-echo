{
 "cells": [
  {
   "cell_type": "markdown",
   "metadata": {},
   "source": [
    "## Finding/Learning Speech-to-Text Libraries"
   ]
  },
  {
   "cell_type": "code",
   "execution_count": 1,
   "metadata": {},
   "outputs": [
    {
     "name": "stdout",
     "output_type": "stream",
     "text": [
      "Speech Recognition module is installed, version: 3.14.1\n"
     ]
    }
   ],
   "source": [
    "import os\n",
    "try:\n",
    "    import speech_recognition as sr\n",
    "    print(f'Speech Recognition module is installed, version: {sr.__version__}')\n",
    "except ModuleNotFoundError:\n",
    "    print(\"Speech Recognition module is not installed\")\n",
    "    print(\"Please install it using the command 'pip install SpeechRecognition'\")"
   ]
  },
  {
   "cell_type": "code",
   "execution_count": 2,
   "metadata": {},
   "outputs": [],
   "source": [
    "recognizer = sr.Recognizer()\n",
    "\n",
    "# sr.AudioFile.FLAC_CONVERTER = r\"C:\\Users\\andyv\\anaconda3\\Library\\bin\\flac.exe\"\n",
    "\n",
    "def recognize_speech_from_mic():\n",
    "    with sr.Microphone() as source:\n",
    "        recognizer.adjust_for_ambient_noise(source)\n",
    "        print(\"Say something:\")\n",
    "        audio = recognizer.listen(source)\n",
    "\n",
    "    try:\n",
    "        return recognizer.recognize_google(audio)\n",
    "    except sr.UnknownValueError:\n",
    "        return \"Could not understand audio\"\n",
    "    except sr.RequestError as e:\n",
    "        return f\"Error: {e}\""
   ]
  },
  {
   "cell_type": "code",
   "execution_count": 3,
   "metadata": {},
   "outputs": [
    {
     "name": "stdout",
     "output_type": "stream",
     "text": [
      "Say something:\n"
     ]
    },
    {
     "data": {
      "text/plain": [
       "'hello hello'"
      ]
     },
     "execution_count": 3,
     "metadata": {},
     "output_type": "execute_result"
    }
   ],
   "source": [
    "recognize_speech_from_mic()"
   ]
  },
  {
   "cell_type": "code",
   "execution_count": 5,
   "metadata": {},
   "outputs": [
    {
     "name": "stdout",
     "output_type": "stream",
     "text": [
      "Current PATH: c:\\Users\\andyv\\anaconda3;C:\\Users\\andyv\\anaconda3;C:\\Users\\andyv\\anaconda3\\Library\\mingw64\\bin;C:\\Users\\andyv\\anaconda3\\Library\\mingw-w64\\bin;C:\\Users\\andyv\\anaconda3\\Library\\usr\\bin;C:\\Users\\andyv\\anaconda3\\Library\\bin;C:\\Users\\andyv\\anaconda3\\Scripts;C:\\Users\\andyv\\anaconda3\\bin;C:\\Users\\andyv\\anaconda3\\condabin;C:\\Program Files\\Eclipse Adoptium\\jdk-21.0.5.11-hotspot\\bin;C:\\Python310\\Scripts;C:\\Python310;C:\\Windows\\system32;C:\\Windows;C:\\Windows\\System32\\Wbem;C:\\Windows\\System32\\WindowsPowerShell\\v1.0;C:\\Windows\\System32\\OpenSSH;C:\\WINDOWS\\system32;C:\\WINDOWS;C:\\WINDOWS\\System32\\Wbem;C:\\WINDOWS\\System32\\WindowsPowerShell\\v1.0;C:\\WINDOWS\\System32\\OpenSSH;C:\\Program Files\\MATLAB\\R2022b\\bin;C:\\Program Files\\PuTTY;C:\\ProgramData\\chocolatey\\bin;C:\\Program Files\\Calibre2;C:\\Program Files (x86)\\NVIDIA Corporation\\PhysX\\Common;C:\\Program Files\\NVIDIA Corporation\\NVIDIA NvDLISR;C:\\Program Files\\dotnet;C:\\Program Files\\nodejs;C:\\Users\\andyv\\AppData\\Local\\Programs\\Python\\Python310\\Scripts;C:\\Users\\andyv\\AppData\\Local\\Programs\\Python\\Python310;C:\\Users\\andyv\\Coding\\Scripts;C:\\Users\\andyv\\Coding;C:\\Users\\andyv\\AppData\\Local\\Microsoft\\WindowsApps;C:\\Users\\andyv\\AppData\\Local\\Programs\\Microsoft VS Code\\bin;C:\\Users\\andyv\\AppData\\Roaming\\Microsoft\\Windows;C:\\Users\\andyv\\AppData\\Local\\Programs\\MiKTeX 2.9\\miktex\\bin\\x64;C:\\Users\\andyv\\AppData\\Local\\JetBrains\\Toolbox\\scripts;C:\\Users\\andyv\\AppData\\Local\\Microsoft\\WindowsApps;C:\\Users\\andyv\\AppData\\Roaming\\npm;C:\\Users\\andyv\\AppData\\Local\\Programs\\R\\R-4.4.2\\bin\\x64\\R.exe;C:\\Users\\andyv\\AppData\\Local\\Programs\\Git\\cmd;C:\\msys64\\mingw64\\bin;.\n"
     ]
    }
   ],
   "source": [
    "path = os.getenv(\"PATH\")\n",
    "print(f\"Current PATH: {path}\")"
   ]
  }
 ],
 "metadata": {
  "kernelspec": {
   "display_name": "base",
   "language": "python",
   "name": "python3"
  },
  "language_info": {
   "codemirror_mode": {
    "name": "ipython",
    "version": 3
   },
   "file_extension": ".py",
   "mimetype": "text/x-python",
   "name": "python",
   "nbconvert_exporter": "python",
   "pygments_lexer": "ipython3",
   "version": "3.11.10"
  }
 },
 "nbformat": 4,
 "nbformat_minor": 2
}
